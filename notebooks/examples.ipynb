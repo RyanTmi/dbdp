{
 "cells": [
  {
   "cell_type": "markdown",
   "metadata": {},
   "source": [
    "# Deep backward schemes for high-dimensional nonlinear PDEs"
   ]
  },
  {
   "cell_type": "markdown",
   "metadata": {},
   "source": [
    "---\n",
    "# Contents\n",
    "- [Important: Usage of `dbdp`](#important-usage-of-dbdp)\n",
    "- [Example 1 : PDEs with bounded solution and simple structure](#example-1--pdes-with-bounded-solution-and-simple-structure)\n",
    "---"
   ]
  },
  {
   "cell_type": "code",
   "execution_count": 1,
   "metadata": {
    "ExecuteTime": {
     "end_time": "2025-02-27T16:17:26.211571Z",
     "start_time": "2025-02-27T16:17:25.053919Z"
    }
   },
   "outputs": [],
   "source": [
    "import torch\n",
    "import numpy as np\n",
    "import matplotlib.pyplot as plt\n",
    "\n",
    "import sys\n",
    "\n",
    "sys.path.append(\"..\")"
   ]
  },
  {
   "cell_type": "markdown",
   "metadata": {},
   "source": [
    "Import necessary `dbdp` modules."
   ]
  },
  {
   "cell_type": "code",
   "execution_count": 2,
   "metadata": {},
   "outputs": [],
   "source": [
    "from dbdp import DBDPModel\n",
    "from dbdp.solvers import DBDP1Solver, DBDP2Solver\n",
    "from dbdp.utils import get_device"
   ]
  },
  {
   "cell_type": "markdown",
   "metadata": {},
   "source": [
    "Get a GPU device if needed."
   ]
  },
  {
   "cell_type": "code",
   "execution_count": 3,
   "metadata": {},
   "outputs": [
    {
     "data": {
      "text/plain": [
       "device(type='cpu')"
      ]
     },
     "execution_count": 3,
     "metadata": {},
     "output_type": "execute_result"
    }
   ],
   "source": [
    "# device = get_device(\"gpu\")  # Do not use GPU, the performance is terrible...\n",
    "device = get_device(\"cpu\")\n",
    "device"
   ]
  },
  {
   "cell_type": "markdown",
   "metadata": {},
   "source": [
    "## Important: Usage of `dbdp`\n",
    "\n",
    "To use `dbdp` for solving PDEs, you need to create a class that extend `DBDPModel` and define dynamic of the problem.\n",
    "You must define : \n",
    "- `drift` for $\\mu(t,x)$,\n",
    "- `diffusion` for $\\sigma(t,x)$,\n",
    "- `f` for $f(t,x,y,z)$,\n",
    "- `g` for $g(x)$,\n",
    "\n",
    "and the property `dim` for the dimension $d$ of the problem.\n",
    "\n",
    "Every `torch.Tensor` members should be assigned using the function `self.make_buffer`, this ensure that thoses tensors lives in the correct device (CPU or GPU) when the class is moved to a target device.\n",
    "\n",
    "See `Example1Model` class bellow for an example."
   ]
  },
  {
   "cell_type": "markdown",
   "metadata": {},
   "source": [
    "## Example 1 : PDEs with bounded solution and simple structure\n",
    "\n",
    "$$\n",
    "    \\mu=0.2,\\quad \\sigma=1,\\quad T=2,\\quad x_0=1\n",
    "$$\n",
    "\n",
    "$$\n",
    "    g(x)=\\cos(x)\n",
    "$$\n",
    "\n",
    "$$\n",
    "    f(t,x,y,z)=(\\cos(x)(e^{\\frac{T-t}{2}}+\\sigma^2/2)+\\mu\\sin(x))e^{\\frac{T-t}{2}}-\\frac{1}{2}(\\sin(x)\\cos(x)e^{T-t})^2+\\frac{1}{2}(yz)^2\n",
    "$$"
   ]
  },
  {
   "cell_type": "code",
   "execution_count": 4,
   "metadata": {
    "ExecuteTime": {
     "end_time": "2025-02-27T16:17:26.278924Z",
     "start_time": "2025-02-27T16:17:26.275758Z"
    }
   },
   "outputs": [],
   "source": [
    "class Example1Model(DBDPModel):\n",
    "    def __init__(self, mu: float, sigma: float, maturity: float, dim: int):\n",
    "        super().__init__()\n",
    "\n",
    "        self._mu = self.make_buffer(mu * torch.ones(dim) / dim)\n",
    "        self._sigma = self.make_buffer(sigma * torch.eye(dim) / np.sqrt(dim))\n",
    "        self._maturity = maturity\n",
    "        self._dim = dim\n",
    "\n",
    "    def drift(self, t, x) -> torch.Tensor:\n",
    "        return self._mu\n",
    "\n",
    "    def diffusion(self, t, x) -> torch.Tensor:\n",
    "        return self._sigma\n",
    "\n",
    "    # NOTE: Here `self.maturity` is a scalar and should not be moved to GPU.\n",
    "    # See https://discuss.pytorch.org/t/do-operations-between-tensors-and-scalars-move-the-tensor-to-cpu/189736\n",
    "    def f(self, t: torch.Tensor, x: torch.Tensor, y: torch.Tensor, z: torch.Tensor) -> torch.Tensor:\n",
    "        x = torch.sum(x, dim=1, keepdim=True)\n",
    "        z = torch.sum(z, dim=1, keepdim=True)\n",
    "\n",
    "        a = torch.cos(x) * (torch.exp((self._maturity - t) * 0.5) + 0.5) + 0.2 * torch.sin(x)\n",
    "        b = 0.5 * (torch.sin(x) * torch.cos(x) * torch.exp(self._maturity - t)) ** 2\n",
    "        c = 0.5 / self._dim * (y * z) ** 2\n",
    "        return a * torch.exp((self._maturity - t) * 0.5) - b + c\n",
    "\n",
    "    def g(self, x: torch.Tensor) -> torch.Tensor:\n",
    "        x = torch.sum(x, dim=1, keepdim=True)\n",
    "        return torch.cos(x)\n",
    "\n",
    "    @property\n",
    "    def dim(self) -> int:\n",
    "        return self._dim\n",
    "\n",
    "    def true_u(self, t: float, x: torch.Tensor) -> torch.Tensor:\n",
    "        x = torch.sum(x, dim=1, keepdim=True)\n",
    "        return np.exp((self._maturity - t) / 2) * torch.cos(x)"
   ]
  },
  {
   "cell_type": "code",
   "execution_count": 5,
   "metadata": {},
   "outputs": [],
   "source": [
    "mu = 0.2\n",
    "sigma = 1.0"
   ]
  },
  {
   "cell_type": "markdown",
   "metadata": {},
   "source": [
    "### Solving in dimension $d=1$"
   ]
  },
  {
   "cell_type": "code",
   "execution_count": 6,
   "metadata": {},
   "outputs": [],
   "source": [
    "maturity = 2.0\n",
    "\n",
    "example_1_1d = Example1Model(mu, sigma, maturity, dim=1)\n",
    "\n",
    "x = torch.ones(example_1_1d.dim)"
   ]
  },
  {
   "cell_type": "markdown",
   "metadata": {},
   "source": [
    "Generate datas, using `DBDPModel`."
   ]
  },
  {
   "cell_type": "code",
   "execution_count": 7,
   "metadata": {
    "ExecuteTime": {
     "end_time": "2025-02-27T16:17:26.403933Z",
     "start_time": "2025-02-27T16:17:26.372847Z"
    }
   },
   "outputs": [
    {
     "name": "stdout",
     "output_type": "stream",
     "text": [
      "        | Shapes                      | Memory\n",
      "--------|-----------------------------|--------\n",
      "     dw | torch.Size([10000, 240, 1]) | 9.16 MB\n",
      "x_paths | torch.Size([10000, 241, 1]) | 9.19 MB\n"
     ]
    }
   ],
   "source": [
    "time_steps = 240\n",
    "dt = maturity / time_steps\n",
    "sample_count = 10_000\n",
    "\n",
    "x_paths, dw = example_1_1d.generate_datas(x, dt, time_steps, sample_count)\n",
    "\n",
    "print(f\"        | Shapes                      | Memory\")\n",
    "print(f\"--------|-----------------------------|--------\")\n",
    "print(f\"     dw | {dw.shape} | {dw.element_size() * dw.nelement() / 1024**2:.2f} MB\")\n",
    "print(f\"x_paths | {x_paths.shape} | {x_paths.element_size() * x_paths.nelement() / 1024**2:.2f} MB\")"
   ]
  },
  {
   "cell_type": "code",
   "execution_count": 8,
   "metadata": {
    "ExecuteTime": {
     "end_time": "2025-02-27T16:17:26.368123Z",
     "start_time": "2025-02-27T16:17:26.285249Z"
    }
   },
   "outputs": [
    {
     "name": "stdout",
     "output_type": "stream",
     "text": [
      "FeedForward(\n",
      "  (_layers): Sequential(\n",
      "    (0): BatchNorm1d(1, eps=1e-05, momentum=0.1, affine=True, track_running_stats=True)\n",
      "    (1): Linear(in_features=1, out_features=11, bias=True)\n",
      "    (2): Tanh()\n",
      "    (3): BatchNorm1d(11, eps=1e-05, momentum=0.1, affine=True, track_running_stats=True)\n",
      "    (4): Linear(in_features=11, out_features=11, bias=True)\n",
      "    (5): Tanh()\n",
      "    (6): BatchNorm1d(11, eps=1e-05, momentum=0.1, affine=True, track_running_stats=True)\n",
      "    (7): Linear(in_features=11, out_features=1, bias=True)\n",
      "  )\n",
      ")\n"
     ]
    }
   ],
   "source": [
    "example_1_1d_solver = DBDP1Solver(example_1_1d, dt, time_steps)\n",
    "\n",
    "print(example_1_1d_solver._network[0].u_network)"
   ]
  },
  {
   "cell_type": "code",
   "execution_count": null,
   "metadata": {
    "ExecuteTime": {
     "end_time": "2025-02-27T16:53:41.796334Z",
     "start_time": "2025-02-27T16:33:14.954286Z"
    }
   },
   "outputs": [
    {
     "name": "stderr",
     "output_type": "stream",
     "text": [
      "Training:  29%|██▉       | 69/240 [30:21<1:16:49, 26.96s/it]"
     ]
    }
   ],
   "source": [
    "trains_losses, tests_losses = example_1_1d_solver.train(\n",
    "    x_paths,\n",
    "    dw,\n",
    "    num_epochs=500,\n",
    "    batch_size=1_000,\n",
    "    lr=1e-3,\n",
    "    device=device,\n",
    ")\n",
    "\n",
    "example_1_1d_solver.save(\"../models/example-01-dbdp1.pt\")"
   ]
  },
  {
   "cell_type": "code",
   "execution_count": null,
   "metadata": {
    "ExecuteTime": {
     "end_time": "2025-02-27T16:54:45.510851Z",
     "start_time": "2025-02-27T16:54:45.302239Z"
    }
   },
   "outputs": [],
   "source": [
    "# u_approx = example1_dbdp1_solver\n",
    "\n",
    "# time = np.linspace(0, maturity, time_steps + 1)\n",
    "# t = time[-2]\n",
    "# xs = x_paths[:, -2].unsqueeze(1)[:, :, 0]\n",
    "# ys = u_approx(t, xs).detach()\n",
    "\n",
    "# plt.figure(figsize=(12, 6), dpi=200)\n",
    "# plt.title(f\"t={t}\")\n",
    "# plt.plot(xs, ys, \".\", markersize=4, label=\"Numeric\", alpha=0.5)\n",
    "# plt.plot(xs, example_1_true(t, xs), \".\", markersize=4, label=\"Analytic\", alpha=0.5)\n",
    "# plt.grid(alpha=0.5, ls=\"dotted\")\n",
    "# plt.xlabel(\"$x$\")\n",
    "# plt.ylabel(\"$u(t,x)$\")\n",
    "# plt.tight_layout()\n",
    "# plt.legend(loc=\"upper left\")\n",
    "# plt.show()"
   ]
  },
  {
   "cell_type": "code",
   "execution_count": null,
   "metadata": {},
   "outputs": [],
   "source": [
    "def plot_losses(train_losses, test_losses):\n",
    "    plt.figure(figsize=(12, 6), dpi=200)\n",
    "    plt.title(\"Evolution of training and test error\")\n",
    "    plt.plot(train_losses, label=\"Train loss\")\n",
    "    plt.plot(test_losses, label=\"Test loss\")\n",
    "    plt.xlabel(\"Epoch\")\n",
    "    plt.ylabel(\"Loss (MSE)\")\n",
    "    plt.loglog()\n",
    "    plt.grid(alpha=0.5, ls=\"dotted\")\n",
    "    plt.tight_layout()\n",
    "    plt.legend()"
   ]
  },
  {
   "cell_type": "code",
   "execution_count": null,
   "metadata": {
    "ExecuteTime": {
     "end_time": "2025-02-27T16:54:11.405168Z",
     "start_time": "2025-02-27T16:54:11.190760Z"
    }
   },
   "outputs": [],
   "source": [
    "# plot_losses(trains_losses[-1], tests_losses[-1])"
   ]
  },
  {
   "cell_type": "markdown",
   "metadata": {},
   "source": [
    "### Solving in dimension $d=5$"
   ]
  },
  {
   "cell_type": "code",
   "execution_count": null,
   "metadata": {},
   "outputs": [],
   "source": [
    "maturity = 1.0\n",
    "\n",
    "example_1_5d = Example1Model(mu, sigma, maturity, dim=5)\n",
    "\n",
    "x = torch.ones(example_1_5d.dim)"
   ]
  },
  {
   "cell_type": "code",
   "execution_count": null,
   "metadata": {},
   "outputs": [],
   "source": [
    "time_steps = 120\n",
    "dt = maturity / time_steps\n",
    "sample_count = 10_000\n",
    "\n",
    "x_paths, dw = example_1_5d.generate_datas(x, dt, time_steps, sample_count)\n",
    "\n",
    "print(f\"        | Shapes                      | Memory  \")\n",
    "print(f\"--------|-----------------------------|---------\")\n",
    "print(f\"     dw | {dw.shape} | {dw.element_size() * dw.nelement() / 1024**2:.2f} MB\")\n",
    "print(f\"x_paths | {x_paths.shape} | {x_paths.element_size() * x_paths.nelement() / 1024**2:.2f} MB\")"
   ]
  },
  {
   "cell_type": "code",
   "execution_count": null,
   "metadata": {},
   "outputs": [],
   "source": [
    "example_1_5d_solver = DBDP2Solver(example_1_5d, dt, time_steps)\n",
    "\n",
    "print(example_1_5d_solver._network[0].u_network)"
   ]
  },
  {
   "cell_type": "code",
   "execution_count": null,
   "metadata": {},
   "outputs": [],
   "source": [
    "# trains_losses, tests_losses = example_1_5d_solver.train(\n",
    "#     x_paths,\n",
    "#     dw,\n",
    "#     num_epochs=400,\n",
    "#     batch_size=1_000,\n",
    "#     lr=1e-2,\n",
    "#     device=device,\n",
    "#     step=1,\n",
    "# )"
   ]
  },
  {
   "cell_type": "markdown",
   "metadata": {},
   "source": [
    "### Solving in dimension $d=50$"
   ]
  },
  {
   "cell_type": "code",
   "execution_count": null,
   "metadata": {},
   "outputs": [],
   "source": [
    "maturity = 1.0\n",
    "\n",
    "example_1_50d = Example1Model(mu, sigma, maturity, dim=50)\n",
    "\n",
    "x = torch.ones(example_1_50d.dim)"
   ]
  },
  {
   "cell_type": "code",
   "execution_count": null,
   "metadata": {},
   "outputs": [],
   "source": [
    "time_steps = 120\n",
    "dt = maturity / time_steps\n",
    "sample_count = 10_000\n",
    "\n",
    "x_paths, dw = example_1_50d.generate_datas(x, dt, time_steps, sample_count)\n",
    "\n",
    "print(f\"        | Shapes                       | Memory   \")\n",
    "print(f\"--------|------------------------------|----------\")\n",
    "print(f\"     dw | {dw.shape} | {dw.element_size() * dw.nelement() / 1024**2:.2f} MB\")\n",
    "print(f\"x_paths | {x_paths.shape} | {x_paths.element_size() * x_paths.nelement() / 1024**2:.2f} MB\")"
   ]
  },
  {
   "cell_type": "code",
   "execution_count": null,
   "metadata": {},
   "outputs": [],
   "source": [
    "example_1_50d_solver = DBDP1Solver(example_1_50d, dt, time_steps)\n",
    "\n",
    "print(example_1_50d_solver._network[0].u_network)"
   ]
  },
  {
   "cell_type": "code",
   "execution_count": null,
   "metadata": {},
   "outputs": [],
   "source": [
    "# trains_losses, tests_losses = example_1_50d_solver.train(\n",
    "#     x_paths,\n",
    "#     dw,\n",
    "#     num_epochs=400,\n",
    "#     batch_size=1_000,\n",
    "#     lr=1e-2,\n",
    "#     device=device,\n",
    "# )"
   ]
  },
  {
   "cell_type": "code",
   "execution_count": null,
   "metadata": {},
   "outputs": [],
   "source": []
  }
 ],
 "metadata": {
  "kernelspec": {
   "display_name": ".venv",
   "language": "python",
   "name": "python3"
  },
  "language_info": {
   "codemirror_mode": {
    "name": "ipython",
    "version": 3
   },
   "file_extension": ".py",
   "mimetype": "text/x-python",
   "name": "python",
   "nbconvert_exporter": "python",
   "pygments_lexer": "ipython3",
   "version": "3.13.3"
  }
 },
 "nbformat": 4,
 "nbformat_minor": 2
}
