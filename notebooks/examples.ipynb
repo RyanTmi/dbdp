{
 "cells": [
  {
   "cell_type": "markdown",
   "metadata": {},
   "source": [
    "# Deep backward schemes for high-dimensional nonlinear PDEs"
   ]
  },
  {
   "cell_type": "code",
   "execution_count": 1,
   "metadata": {
    "ExecuteTime": {
     "end_time": "2025-02-27T16:17:26.211571Z",
     "start_time": "2025-02-27T16:17:25.053919Z"
    }
   },
   "outputs": [],
   "source": [
    "import torch\n",
    "import numpy as np\n",
    "import matplotlib.pyplot as plt\n",
    "\n",
    "import sys\n",
    "\n",
    "sys.path.append(\"..\")"
   ]
  },
  {
   "cell_type": "code",
   "execution_count": 2,
   "metadata": {},
   "outputs": [],
   "source": [
    "from dbdp.solvers import DBDP1Solver\n",
    "from dbdp import DBDPModel"
   ]
  },
  {
   "cell_type": "markdown",
   "metadata": {},
   "source": [
    "$$\n",
    "\\begin{cases}\n",
    "    \\partial_t u + \\mathcal{L}u + f(.,.,u,\\sigma\\cdot Du) = 0 & \\text{on } [0,T)\\times\\mathbb{R}^d, \\\\\n",
    "    u(T,.) = g & \\text{on }\\mathbb{R}^d.\n",
    "\\end{cases}\n",
    "$$"
   ]
  },
  {
   "cell_type": "markdown",
   "metadata": {},
   "source": [
    "## Example 1 :\n",
    "\n",
    "$$\n",
    "    \\mu=0.2,\\ \\sigma=1,\\ T=2,\\ x_0=1\n",
    "$$\n",
    "\n",
    "$$\n",
    "    g(x)=\\cos(x)\n",
    "$$\n",
    "\n",
    "$$\n",
    "    f(t,x,y,z)=(\\cos(x)(e^{\\frac{T-t}{2}}+\\sigma^2/2)+\\mu\\sin(x))e^{\\frac{T-t}{2}}-\\frac{1}{2}(\\sin(x)\\cos(x)e^{T-t})^2+\\frac{1}{2}(yz)^2\n",
    "$$"
   ]
  },
  {
   "cell_type": "code",
   "execution_count": 3,
   "metadata": {
    "ExecuteTime": {
     "end_time": "2025-02-27T16:17:26.278924Z",
     "start_time": "2025-02-27T16:17:26.275758Z"
    }
   },
   "outputs": [],
   "source": [
    "class Example1Model(DBDPModel):\n",
    "    def __init__(self, mu: float, sigma: float, maturity: float):\n",
    "        self._mu = torch.tensor(mu)\n",
    "        self._sigma = torch.tensor(sigma)\n",
    "        self._maturity = maturity\n",
    "\n",
    "    def drift(self, t, x) -> torch.Tensor:\n",
    "        return self._mu\n",
    "\n",
    "    def diffusion(self, t, x) -> torch.Tensor:\n",
    "        return self._sigma\n",
    "\n",
    "    def f(self, t: float, x: torch.Tensor, y: torch.Tensor, z: torch.Tensor) -> torch.Tensor:\n",
    "        a = torch.cos(x) * (np.exp((self._maturity - t) / 2) + self._sigma**2 / 2) + self._mu * torch.sin(x)\n",
    "        b = -((torch.sin(x) * torch.cos(x) * np.exp(self._maturity - t)) ** 2) + (y * z) ** 2\n",
    "        return a * np.exp((self._maturity - t) / 2) + b / 2\n",
    "\n",
    "    def g(self, x: torch.Tensor) -> torch.Tensor:\n",
    "        return torch.cos(x)\n",
    "\n",
    "\n",
    "mu = 0.2\n",
    "sigma = 1.0\n",
    "maturity = 2.0\n",
    "x0 = torch.Tensor([1.0])  # So that x0.dim() == 1\n",
    "dim = x0.size(0)\n",
    "\n",
    "example1_model = Example1Model(mu, sigma, maturity)\n",
    "example_true_u = lambda t, x: np.exp((maturity - t) / 2) * torch.cos(x)\n",
    "\n",
    "time_steps = 240\n",
    "dt = maturity / time_steps\n",
    "sample_count = 10_000"
   ]
  },
  {
   "cell_type": "code",
   "execution_count": 4,
   "metadata": {
    "ExecuteTime": {
     "end_time": "2025-02-27T16:17:26.368123Z",
     "start_time": "2025-02-27T16:17:26.285249Z"
    }
   },
   "outputs": [],
   "source": [
    "example1_dbdp1_solver = DBDP1Solver(example1_model, maturity, time_steps, dim)\n",
    "# example1_dbdp1_solver.load(\"../models/example-01.pt\")"
   ]
  },
  {
   "cell_type": "code",
   "execution_count": 5,
   "metadata": {
    "ExecuteTime": {
     "end_time": "2025-02-27T16:17:26.403933Z",
     "start_time": "2025-02-27T16:17:26.372847Z"
    }
   },
   "outputs": [
    {
     "name": "stdout",
     "output_type": "stream",
     "text": [
      "Shapes:\n",
      "-      dw: torch.Size([10000, 240, 1])\n",
      "- x_paths: torch.Size([10000, 241, 1])\n"
     ]
    }
   ],
   "source": [
    "# Generating datas\n",
    "x_paths, dw = example1_model.generate_datas(x0, dt, time_steps, dim, sample_count)\n",
    "\n",
    "print(\"Shapes:\")\n",
    "print(f\"-      dw: {dw.shape}\")\n",
    "print(f\"- x_paths: {x_paths.shape}\")"
   ]
  },
  {
   "cell_type": "code",
   "execution_count": null,
   "metadata": {
    "ExecuteTime": {
     "end_time": "2025-02-27T16:53:41.796334Z",
     "start_time": "2025-02-27T16:33:14.954286Z"
    }
   },
   "outputs": [],
   "source": [
    "trains_losses, tests_losses = example1_dbdp1_solver.train(\n",
    "    x_paths,\n",
    "    dw,\n",
    "    num_epochs=400,\n",
    "    batch_size=1_000,\n",
    "    lr=1e-2,\n",
    ")\n",
    "# example1_dbdp1_solver.save(\"../models/example-01.pt\")"
   ]
  },
  {
   "cell_type": "code",
   "execution_count": null,
   "metadata": {
    "ExecuteTime": {
     "end_time": "2025-02-27T16:54:45.510851Z",
     "start_time": "2025-02-27T16:54:45.302239Z"
    }
   },
   "outputs": [],
   "source": [
    "u_approx = example1_dbdp1_solver\n",
    "\n",
    "\n",
    "time = np.linspace(0, maturity, time_steps + 1)\n",
    "t = time[235]\n",
    "xs = x_paths[:, 235].unsqueeze(1)[:, :, 0]\n",
    "ys = u_approx(t, xs).detach()\n",
    "\n",
    "plt.figure(figsize=(12, 6), dpi=200)\n",
    "plt.title(f\"t={t}\")\n",
    "plt.plot(xs, ys, \".\", markersize=4, label=\"Numeric\", alpha=0.5)\n",
    "plt.plot(xs, example_true_u(t, xs), \".\", markersize=4, label=\"Analytic\", alpha=0.5)\n",
    "plt.grid(alpha=0.5, ls=\"dotted\")\n",
    "plt.xlabel(\"$x$\")\n",
    "plt.ylabel(\"$u(t,x)$\")\n",
    "plt.tight_layout()\n",
    "plt.legend(loc=\"upper left\")\n",
    "plt.show()"
   ]
  },
  {
   "cell_type": "code",
   "execution_count": null,
   "metadata": {},
   "outputs": [],
   "source": [
    "def plot_losses(train_losses, test_losses):\n",
    "    plt.figure(figsize=(12, 6), dpi=200)\n",
    "    plt.title(\"Evolution of training and test error\")\n",
    "    plt.plot(train_losses, label=\"Train loss\")\n",
    "    plt.plot(test_losses, label=\"Test loss\")\n",
    "    plt.xlabel(\"Epoch\")\n",
    "    plt.ylabel(\"Loss (MSE)\")\n",
    "    plt.loglog()\n",
    "    plt.grid(alpha=0.5, ls=\"dotted\")\n",
    "    plt.tight_layout()\n",
    "    plt.legend()"
   ]
  },
  {
   "cell_type": "code",
   "execution_count": null,
   "metadata": {
    "ExecuteTime": {
     "end_time": "2025-02-27T16:54:11.405168Z",
     "start_time": "2025-02-27T16:54:11.190760Z"
    }
   },
   "outputs": [],
   "source": [
    "plot_losses(trains_losses[0], tests_losses[0])"
   ]
  },
  {
   "cell_type": "code",
   "execution_count": null,
   "metadata": {},
   "outputs": [],
   "source": []
  }
 ],
 "metadata": {
  "kernelspec": {
   "display_name": ".venv",
   "language": "python",
   "name": "python3"
  },
  "language_info": {
   "codemirror_mode": {
    "name": "ipython",
    "version": 3
   },
   "file_extension": ".py",
   "mimetype": "text/x-python",
   "name": "python",
   "nbconvert_exporter": "python",
   "pygments_lexer": "ipython3",
   "version": "3.12.9"
  }
 },
 "nbformat": 4,
 "nbformat_minor": 2
}
